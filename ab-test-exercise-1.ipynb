{
 "cells": [
  {
   "cell_type": "markdown",
   "id": "8c115c01",
   "metadata": {
    "papermill": {
     "duration": 0.015527,
     "end_time": "2023-06-20T11:00:59.471481",
     "exception": false,
     "start_time": "2023-06-20T11:00:59.455954",
     "status": "completed"
    },
    "tags": []
   },
   "source": [
    "![AB Testing](https://blog.thomasnet.com/hs-fs/hubfs/AB%20Testing.png?width=900&name=AB%20Testing.png)"
   ]
  },
  {
   "cell_type": "markdown",
   "id": "ed007fe5",
   "metadata": {
    "papermill": {
     "duration": 0.012772,
     "end_time": "2023-06-20T11:00:59.497992",
     "exception": false,
     "start_time": "2023-06-20T11:00:59.485220",
     "status": "completed"
    },
    "tags": []
   },
   "source": [
    "# WHAT IS THE AB TESTING ?\n",
    "\n",
    "A/B testing, also known as split testing, is a method of comparing two variants(A and B) to determine which one performs better. In A/B testing, two variants (A and B) are created with one element of the design or content being different between the two variants. The two versions are then shown randomly to users, and their behavior is monitored and compared to determine which variant performs better based on a predefined goal, such as the conversion rate, click-through rate, or engagement rate.\n",
    "\n",
    "A/B testing is commonly used in website optimization, digital marketing, and product development to determine which variant is more effective at achieving a specific goal. It helps businesses make data-driven decisions by providing insight into what resonates better with their audience and what changes can be made to improve the user experience and increase conversions."
   ]
  },
  {
   "cell_type": "markdown",
   "id": "a045b27b",
   "metadata": {
    "papermill": {
     "duration": 0.014074,
     "end_time": "2023-06-20T11:00:59.525149",
     "exception": false,
     "start_time": "2023-06-20T11:00:59.511075",
     "status": "completed"
    },
    "tags": []
   },
   "source": [
    "# Hypothesis Testing\n",
    "\n",
    "Hypothesis tests are analytical tools used as a statistical method. These tests aim to test a hypothesis (claim) about a population using sample data. Hypothesis tests help us make inferences about whether a hypothesis is true or not by collecting statistical evidence.\n",
    "\n",
    "Generally, two hypotheses are formulated: the null hypothesis (H0) and the alternative hypothesis (H1 or HA). The null hypothesis represents the existing condition or the accepted assumptions, while the alternative hypothesis claims a specific change or effect.\n",
    "\n",
    "Hypothesis tests can be categorized into the following types:\n",
    "\n",
    "- **One-Sample T Test:** Used to test if the mean of a population is significantly different from a specific value.\n",
    "\n",
    "- **Independent Two-Sample T Test:** Used to test if there is a significant difference between the means of two independent groups.\n",
    "\n",
    "- **Paired Two-Sample T Test:** Used to test if there is a significant difference between the means of two related or paired groups.\n",
    "\n",
    "- **Analysis of Variance (ANOVA):** Used to test if there is a significant difference among the means of three or more groups.\n",
    "\n",
    "- **Chi-Square Test:** Used to test if there is a dependency or association between two categorical variables.\n",
    "\n",
    "- **Regression Analysis:** Used to analyze the relationship between dependent and independent variables.\n",
    "\n",
    "These are just some popular types of hypothesis tests, and there are many more methods available in statistics. Hypothesis tests are used in various fields, ranging from scientific research and marketing strategies to medical studies and industrial quality control processes. These tests enable us to make objective decisions based on data and evaluate statistical significance.\n",
    "\n",
    "- Hypothesis tests are statistical methods used to test a belief or proposition.\n",
    "\n",
    "- Within the scope of hypothesis testing, there are group comparisons.\n",
    "\n",
    "- The main objective in group comparisons is to determine whether observed differences are due to chance or if there is a genuine difference.\n",
    "\n",
    "**For example:**\n",
    "- Did the average daily usage time of users increase after a user interface change in a mobile application?\n",
    "\n",
    "- The result we obtain from this analysis, based on the sample we have, will help us determine if the observed outcome occurred by chance or if there is indeed a significant difference.\n",
    "\n",
    "- We will strive to understand this through statistical calculations and analysis. We will provide evidence to support our findings."
   ]
  },
  {
   "cell_type": "markdown",
   "id": "48d78135",
   "metadata": {
    "papermill": {
     "duration": 0.013779,
     "end_time": "2023-06-20T11:00:59.553611",
     "exception": false,
     "start_time": "2023-06-20T11:00:59.539832",
     "status": "completed"
    },
    "tags": []
   },
   "source": [
    "# A/B Testing (Independent Two-Sample T Test) (Comparing Two Group Means)\n",
    "\n",
    "- It is used when a comparison between two group averages is desired.\n",
    "- A/B testing, also known as independent two-sample t-test, is a statistical method used to compare the means of two independent groups.\n",
    "\n",
    "- In A/B testing, we aim to determine if there is a significant difference between the average values of a particular metric or outcome variable in two distinct groups. This method is commonly employed in various fields such as marketing, product development, and user experience research.\n",
    "\n",
    "- By dividing participants or subjects into two groups, we expose one group to a certain treatment or condition (group A) and the other group to a different treatment or condition (group B). We then measure the desired outcome or metric of interest for both groups. The independent two-sample t-test allows us to assess whether the observed difference in means between the two groups is statistically significant or if it could have occurred by chance.\n",
    "\n",
    "- Through A/B testing, we can make data-driven decisions by determining which treatment or condition leads to better outcomes, whether it's an increase in conversion rates, engagement levels, or any other relevant measure.\n",
    "\n",
    "- Overall, A/B testing provides valuable insights into the effectiveness of different approaches, helping us optimize strategies and make informed choices based on statistical evidence."
   ]
  },
  {
   "cell_type": "markdown",
   "id": "7fe539ff",
   "metadata": {
    "papermill": {
     "duration": 0.013081,
     "end_time": "2023-06-20T11:00:59.580116",
     "exception": false,
     "start_time": "2023-06-20T11:00:59.567035",
     "status": "completed"
    },
    "tags": []
   },
   "source": [
    "# Road Map\n",
    "\n",
    "1. Set up Hypotheses\n",
    "2. Assumption Check\n",
    "  - 2.1. Assumption of Normality\n",
    "  - 2.2. Variance Homogeneity\n",
    "3. Implementation of the Hypothesis\n",
    "  - 1. If the assumptions are met, independent two sample t test (parametric test)\n",
    "  - 2. If assumptions are not met, mannwhitneyu test (non-parametric test)\n",
    "4. Interpret results according to p-value"
   ]
  },
  {
   "cell_type": "code",
   "execution_count": 1,
   "id": "37493dfb",
   "metadata": {
    "execution": {
     "iopub.execute_input": "2023-06-20T11:00:59.608590Z",
     "iopub.status.busy": "2023-06-20T11:00:59.608174Z",
     "iopub.status.idle": "2023-06-20T11:01:01.834568Z",
     "shell.execute_reply": "2023-06-20T11:01:01.833422Z"
    },
    "papermill": {
     "duration": 2.244047,
     "end_time": "2023-06-20T11:01:01.837580",
     "exception": false,
     "start_time": "2023-06-20T11:00:59.593533",
     "status": "completed"
    },
    "tags": []
   },
   "outputs": [],
   "source": [
    "# import Required Libraries\n",
    "\n",
    "import itertools\n",
    "import numpy as np\n",
    "import pandas as pd\n",
    "import matplotlib.pyplot as plt\n",
    "import seaborn as sns\n",
    "import statsmodels.stats.api as sms\n",
    "from scipy.stats import ttest_1samp, shapiro, levene, ttest_ind, mannwhitneyu,pearsonr, spearmanr, kendalltau, f_oneway, kruskal\n",
    "from statsmodels.stats.proportion import proportions_ztest"
   ]
  },
  {
   "cell_type": "code",
   "execution_count": 2,
   "id": "4b781ae5",
   "metadata": {
    "execution": {
     "iopub.execute_input": "2023-06-20T11:01:01.866087Z",
     "iopub.status.busy": "2023-06-20T11:01:01.865651Z",
     "iopub.status.idle": "2023-06-20T11:01:01.872014Z",
     "shell.execute_reply": "2023-06-20T11:01:01.870743Z"
    },
    "papermill": {
     "duration": 0.023972,
     "end_time": "2023-06-20T11:01:01.874932",
     "exception": false,
     "start_time": "2023-06-20T11:01:01.850960",
     "status": "completed"
    },
    "tags": []
   },
   "outputs": [],
   "source": [
    "# Adjusting Row Column Settings\n",
    "\n",
    "pd.set_option('display.max_columns', None)\n",
    "pd.set_option('display.max_rows', 10)\n",
    "pd.set_option('display.float_format', lambda x: '%.5f' % x)"
   ]
  },
  {
   "cell_type": "markdown",
   "id": "fffd1de4",
   "metadata": {
    "papermill": {
     "duration": 0.012711,
     "end_time": "2023-06-20T11:01:01.901497",
     "exception": false,
     "start_time": "2023-06-20T11:01:01.888786",
     "status": "completed"
    },
    "tags": []
   },
   "source": [
    "# Exercise 1: Is There a Statistically Significant Difference Between The Mean Calculations of Smokers and Non-Smokers?"
   ]
  },
  {
   "cell_type": "code",
   "execution_count": 3,
   "id": "f8cf07b0",
   "metadata": {
    "execution": {
     "iopub.execute_input": "2023-06-20T11:01:01.930796Z",
     "iopub.status.busy": "2023-06-20T11:01:01.930381Z",
     "iopub.status.idle": "2023-06-20T11:01:02.825057Z",
     "shell.execute_reply": "2023-06-20T11:01:02.823721Z"
    },
    "papermill": {
     "duration": 0.912916,
     "end_time": "2023-06-20T11:01:02.828127",
     "exception": false,
     "start_time": "2023-06-20T11:01:01.915211",
     "status": "completed"
    },
    "tags": []
   },
   "outputs": [],
   "source": [
    "# Loading the Data Set\n",
    "\n",
    "df = sns.load_dataset(\"tips\")"
   ]
  },
  {
   "cell_type": "code",
   "execution_count": 4,
   "id": "3a842998",
   "metadata": {
    "execution": {
     "iopub.execute_input": "2023-06-20T11:01:02.857537Z",
     "iopub.status.busy": "2023-06-20T11:01:02.857156Z",
     "iopub.status.idle": "2023-06-20T11:01:02.905379Z",
     "shell.execute_reply": "2023-06-20T11:01:02.904231Z"
    },
    "papermill": {
     "duration": 0.066742,
     "end_time": "2023-06-20T11:01:02.908157",
     "exception": false,
     "start_time": "2023-06-20T11:01:02.841415",
     "status": "completed"
    },
    "tags": []
   },
   "outputs": [
    {
     "name": "stdout",
     "output_type": "stream",
     "text": [
      "##################### Shape #####################\n",
      "(244, 7)\n",
      "##################### Types #####################\n",
      "total_bill     float64\n",
      "tip            float64\n",
      "sex           category\n",
      "smoker        category\n",
      "day           category\n",
      "time          category\n",
      "size             int64\n",
      "dtype: object\n",
      "##################### Head #####################\n",
      "   total_bill     tip     sex smoker  day    time  size\n",
      "0    16.99000 1.01000  Female     No  Sun  Dinner     2\n",
      "1    10.34000 1.66000    Male     No  Sun  Dinner     3\n",
      "2    21.01000 3.50000    Male     No  Sun  Dinner     3\n",
      "3    23.68000 3.31000    Male     No  Sun  Dinner     2\n",
      "4    24.59000 3.61000  Female     No  Sun  Dinner     4\n",
      "##################### Tail #####################\n",
      "     total_bill     tip     sex smoker   day    time  size\n",
      "239    29.03000 5.92000    Male     No   Sat  Dinner     3\n",
      "240    27.18000 2.00000  Female    Yes   Sat  Dinner     2\n",
      "241    22.67000 2.00000    Male    Yes   Sat  Dinner     2\n",
      "242    17.82000 1.75000    Male     No   Sat  Dinner     2\n",
      "243    18.78000 3.00000  Female     No  Thur  Dinner     2\n",
      "##################### NA #####################\n",
      "total_bill    0\n",
      "tip           0\n",
      "sex           0\n",
      "smoker        0\n",
      "day           0\n",
      "time          0\n",
      "size          0\n",
      "dtype: int64\n",
      "##################### Quantiles #####################\n",
      "               count     mean     std     min      0%      5%      50%  \\\n",
      "total_bill 244.00000 19.78594 8.90241 3.07000 3.07000 9.55750 17.79500   \n",
      "tip        244.00000  2.99828 1.38364 1.00000 1.00000 1.44000  2.90000   \n",
      "size       244.00000  2.56967 0.95110 1.00000 1.00000 2.00000  2.00000   \n",
      "\n",
      "                95%      99%     100%      max  \n",
      "total_bill 38.06100 48.22700 50.81000 50.81000  \n",
      "tip         5.19550  7.21450 10.00000 10.00000  \n",
      "size        4.00000  6.00000  6.00000  6.00000  \n"
     ]
    }
   ],
   "source": [
    "# Preliminary examination of the data set\n",
    "\n",
    "def check_df(dataframe, head=5):\n",
    "    print('##################### Shape #####################')\n",
    "    print(dataframe.shape)\n",
    "    print('##################### Types #####################')\n",
    "    print(dataframe.dtypes)\n",
    "    print('##################### Head #####################')\n",
    "    print(dataframe.head(head))\n",
    "    print('##################### Tail #####################')\n",
    "    print(dataframe.tail(head))\n",
    "    print('##################### NA #####################')\n",
    "    print(dataframe.isnull().sum())\n",
    "    print('##################### Quantiles #####################')\n",
    "    print(dataframe.describe([0, 0.05, 0.50, 0.95, 0.99, 1]).T)\n",
    "\n",
    "check_df(df)"
   ]
  },
  {
   "cell_type": "code",
   "execution_count": 5,
   "id": "04396bf4",
   "metadata": {
    "execution": {
     "iopub.execute_input": "2023-06-20T11:01:02.937846Z",
     "iopub.status.busy": "2023-06-20T11:01:02.937423Z",
     "iopub.status.idle": "2023-06-20T11:01:02.962166Z",
     "shell.execute_reply": "2023-06-20T11:01:02.960952Z"
    },
    "papermill": {
     "duration": 0.042033,
     "end_time": "2023-06-20T11:01:02.964774",
     "exception": false,
     "start_time": "2023-06-20T11:01:02.922741",
     "status": "completed"
    },
    "tags": []
   },
   "outputs": [
    {
     "data": {
      "text/html": [
       "<div>\n",
       "<style scoped>\n",
       "    .dataframe tbody tr th:only-of-type {\n",
       "        vertical-align: middle;\n",
       "    }\n",
       "\n",
       "    .dataframe tbody tr th {\n",
       "        vertical-align: top;\n",
       "    }\n",
       "\n",
       "    .dataframe thead th {\n",
       "        text-align: right;\n",
       "    }\n",
       "</style>\n",
       "<table border=\"1\" class=\"dataframe\">\n",
       "  <thead>\n",
       "    <tr style=\"text-align: right;\">\n",
       "      <th></th>\n",
       "      <th>total_bill</th>\n",
       "    </tr>\n",
       "    <tr>\n",
       "      <th>smoker</th>\n",
       "      <th></th>\n",
       "    </tr>\n",
       "  </thead>\n",
       "  <tbody>\n",
       "    <tr>\n",
       "      <th>Yes</th>\n",
       "      <td>20.75634</td>\n",
       "    </tr>\n",
       "    <tr>\n",
       "      <th>No</th>\n",
       "      <td>19.18828</td>\n",
       "    </tr>\n",
       "  </tbody>\n",
       "</table>\n",
       "</div>"
      ],
      "text/plain": [
       "        total_bill\n",
       "smoker            \n",
       "Yes       20.75634\n",
       "No        19.18828"
      ]
     },
     "execution_count": 5,
     "metadata": {},
     "output_type": "execute_result"
    }
   ],
   "source": [
    "df.groupby(\"smoker\").agg({\"total_bill\": \"mean\"})"
   ]
  },
  {
   "cell_type": "code",
   "execution_count": 6,
   "id": "2d70e609",
   "metadata": {
    "execution": {
     "iopub.execute_input": "2023-06-20T11:01:02.994860Z",
     "iopub.status.busy": "2023-06-20T11:01:02.994440Z",
     "iopub.status.idle": "2023-06-20T11:01:02.999215Z",
     "shell.execute_reply": "2023-06-20T11:01:02.998146Z"
    },
    "papermill": {
     "duration": 0.023009,
     "end_time": "2023-06-20T11:01:03.001962",
     "exception": false,
     "start_time": "2023-06-20T11:01:02.978953",
     "status": "completed"
    },
    "tags": []
   },
   "outputs": [],
   "source": [
    "# There seems to be a mathematical difference between the two groups. But is this difference a chance occurrence or is it statistically significant?"
   ]
  },
  {
   "cell_type": "markdown",
   "id": "1445e347",
   "metadata": {
    "papermill": {
     "duration": 0.014034,
     "end_time": "2023-06-20T11:01:03.030547",
     "exception": false,
     "start_time": "2023-06-20T11:01:03.016513",
     "status": "completed"
    },
    "tags": []
   },
   "source": [
    "# 1- Establish Hypothesis"
   ]
  },
  {
   "cell_type": "code",
   "execution_count": 7,
   "id": "18fe3081",
   "metadata": {
    "execution": {
     "iopub.execute_input": "2023-06-20T11:01:03.060170Z",
     "iopub.status.busy": "2023-06-20T11:01:03.059365Z",
     "iopub.status.idle": "2023-06-20T11:01:03.064299Z",
     "shell.execute_reply": "2023-06-20T11:01:03.063185Z"
    },
    "papermill": {
     "duration": 0.022819,
     "end_time": "2023-06-20T11:01:03.067021",
     "exception": false,
     "start_time": "2023-06-20T11:01:03.044202",
     "status": "completed"
    },
    "tags": []
   },
   "outputs": [],
   "source": [
    "# H0: M1 = M2 => There is no difference between the averages of the accounts to be paid by the two groups.\n",
    "# H1: M1 != M2 => There is"
   ]
  },
  {
   "cell_type": "markdown",
   "id": "4fce3d51",
   "metadata": {
    "papermill": {
     "duration": 0.0132,
     "end_time": "2023-06-20T11:01:03.095573",
     "exception": false,
     "start_time": "2023-06-20T11:01:03.082373",
     "status": "completed"
    },
    "tags": []
   },
   "source": [
    "# 2- Assumption Control"
   ]
  },
  {
   "cell_type": "code",
   "execution_count": 8,
   "id": "05c93013",
   "metadata": {
    "execution": {
     "iopub.execute_input": "2023-06-20T11:01:03.125085Z",
     "iopub.status.busy": "2023-06-20T11:01:03.124463Z",
     "iopub.status.idle": "2023-06-20T11:01:03.128302Z",
     "shell.execute_reply": "2023-06-20T11:01:03.127311Z"
    },
    "papermill": {
     "duration": 0.021472,
     "end_time": "2023-06-20T11:01:03.130647",
     "exception": false,
     "start_time": "2023-06-20T11:01:03.109175",
     "status": "completed"
    },
    "tags": []
   },
   "outputs": [],
   "source": [
    "# Normality Assumption\n",
    "# Homogeneity of Variance"
   ]
  },
  {
   "cell_type": "markdown",
   "id": "a30e561a",
   "metadata": {
    "papermill": {
     "duration": 0.013134,
     "end_time": "2023-06-20T11:01:03.158230",
     "exception": false,
     "start_time": "2023-06-20T11:01:03.145096",
     "status": "completed"
    },
    "tags": []
   },
   "source": [
    "# Normality Assumption"
   ]
  },
  {
   "cell_type": "code",
   "execution_count": 9,
   "id": "db6a623c",
   "metadata": {
    "execution": {
     "iopub.execute_input": "2023-06-20T11:01:03.187719Z",
     "iopub.status.busy": "2023-06-20T11:01:03.187099Z",
     "iopub.status.idle": "2023-06-20T11:01:03.191573Z",
     "shell.execute_reply": "2023-06-20T11:01:03.190419Z"
    },
    "papermill": {
     "duration": 0.022453,
     "end_time": "2023-06-20T11:01:03.194319",
     "exception": false,
     "start_time": "2023-06-20T11:01:03.171866",
     "status": "completed"
    },
    "tags": []
   },
   "outputs": [],
   "source": [
    "# H0: The assumption of normal distribution is satisfied.\n",
    "# H1: The assumption of normal distribution is not satisfied."
   ]
  },
  {
   "cell_type": "markdown",
   "id": "11bcb90b",
   "metadata": {
    "papermill": {
     "duration": 0.013409,
     "end_time": "2023-06-20T11:01:03.221354",
     "exception": false,
     "start_time": "2023-06-20T11:01:03.207945",
     "status": "completed"
    },
    "tags": []
   },
   "source": [
    "- **The shapiro test** tests whether the distribution of a variable is normally distributed."
   ]
  },
  {
   "cell_type": "code",
   "execution_count": 10,
   "id": "eea99e86",
   "metadata": {
    "execution": {
     "iopub.execute_input": "2023-06-20T11:01:03.252077Z",
     "iopub.status.busy": "2023-06-20T11:01:03.251660Z",
     "iopub.status.idle": "2023-06-20T11:01:03.259274Z",
     "shell.execute_reply": "2023-06-20T11:01:03.257801Z"
    },
    "papermill": {
     "duration": 0.026218,
     "end_time": "2023-06-20T11:01:03.262046",
     "exception": false,
     "start_time": "2023-06-20T11:01:03.235828",
     "status": "completed"
    },
    "tags": []
   },
   "outputs": [],
   "source": [
    "test_stat, pvalue = shapiro(df.loc[df[\"smoker\"] == \"Yes\", \"total_bill\"])"
   ]
  },
  {
   "cell_type": "code",
   "execution_count": 11,
   "id": "08c0d7c6",
   "metadata": {
    "execution": {
     "iopub.execute_input": "2023-06-20T11:01:03.291330Z",
     "iopub.status.busy": "2023-06-20T11:01:03.290363Z",
     "iopub.status.idle": "2023-06-20T11:01:03.296135Z",
     "shell.execute_reply": "2023-06-20T11:01:03.294957Z"
    },
    "papermill": {
     "duration": 0.02364,
     "end_time": "2023-06-20T11:01:03.299238",
     "exception": false,
     "start_time": "2023-06-20T11:01:03.275598",
     "status": "completed"
    },
    "tags": []
   },
   "outputs": [
    {
     "name": "stdout",
     "output_type": "stream",
     "text": [
      "Test Stat = 0.9367, p-value = 0.0002\n"
     ]
    }
   ],
   "source": [
    "print('Test Stat = %.4f, p-value = %.4f' % (test_stat, pvalue))"
   ]
  },
  {
   "cell_type": "code",
   "execution_count": 12,
   "id": "41198de9",
   "metadata": {
    "execution": {
     "iopub.execute_input": "2023-06-20T11:01:03.332963Z",
     "iopub.status.busy": "2023-06-20T11:01:03.332495Z",
     "iopub.status.idle": "2023-06-20T11:01:03.337441Z",
     "shell.execute_reply": "2023-06-20T11:01:03.336336Z"
    },
    "papermill": {
     "duration": 0.02664,
     "end_time": "2023-06-20T11:01:03.339830",
     "exception": false,
     "start_time": "2023-06-20T11:01:03.313190",
     "status": "completed"
    },
    "tags": []
   },
   "outputs": [],
   "source": [
    "# H0 REJ if p-value < 0.05.\n",
    "# H0 CANNOT BE REJECTED if p-value < 0.05."
   ]
  },
  {
   "cell_type": "markdown",
   "id": "640ca374",
   "metadata": {
    "papermill": {
     "duration": 0.014868,
     "end_time": "2023-06-20T11:01:03.368499",
     "exception": false,
     "start_time": "2023-06-20T11:01:03.353631",
     "status": "completed"
    },
    "tags": []
   },
   "source": [
    "- Since the p-value is less than 0.05, hypothesis H0 is rejected.\n",
    "- The normality assumption is not satisfied."
   ]
  },
  {
   "cell_type": "code",
   "execution_count": 13,
   "id": "a81f1ec9",
   "metadata": {
    "execution": {
     "iopub.execute_input": "2023-06-20T11:01:03.398086Z",
     "iopub.status.busy": "2023-06-20T11:01:03.397364Z",
     "iopub.status.idle": "2023-06-20T11:01:03.403642Z",
     "shell.execute_reply": "2023-06-20T11:01:03.402419Z"
    },
    "papermill": {
     "duration": 0.024202,
     "end_time": "2023-06-20T11:01:03.406552",
     "exception": false,
     "start_time": "2023-06-20T11:01:03.382350",
     "status": "completed"
    },
    "tags": []
   },
   "outputs": [],
   "source": [
    "test_stat, pvalue = shapiro(df.loc[df[\"smoker\"] == \"No\", \"total_bill\"])"
   ]
  },
  {
   "cell_type": "code",
   "execution_count": 14,
   "id": "fc4657af",
   "metadata": {
    "execution": {
     "iopub.execute_input": "2023-06-20T11:01:03.436781Z",
     "iopub.status.busy": "2023-06-20T11:01:03.436340Z",
     "iopub.status.idle": "2023-06-20T11:01:03.442882Z",
     "shell.execute_reply": "2023-06-20T11:01:03.441415Z"
    },
    "papermill": {
     "duration": 0.025328,
     "end_time": "2023-06-20T11:01:03.445645",
     "exception": false,
     "start_time": "2023-06-20T11:01:03.420317",
     "status": "completed"
    },
    "tags": []
   },
   "outputs": [
    {
     "name": "stdout",
     "output_type": "stream",
     "text": [
      "Test Stat = 0.9045, p-value = 0.0000\n"
     ]
    }
   ],
   "source": [
    "print('Test Stat = %.4f, p-value = %.4f' % (test_stat, pvalue))"
   ]
  },
  {
   "cell_type": "markdown",
   "id": "00388b50",
   "metadata": {
    "papermill": {
     "duration": 0.013351,
     "end_time": "2023-06-20T11:01:03.472874",
     "exception": false,
     "start_time": "2023-06-20T11:01:03.459523",
     "status": "completed"
    },
    "tags": []
   },
   "source": [
    "- Since the p-value is less than 0.05, hypothesis H0 is rejected.\n",
    "- The normality assumption is not satisfied.\n",
    "- We cannot use a parametric test because the assumption of a normal distribution is not satisfied. we need to use a non-parametric test."
   ]
  },
  {
   "cell_type": "markdown",
   "id": "1deca00c",
   "metadata": {
    "papermill": {
     "duration": 0.014428,
     "end_time": "2023-06-20T11:01:03.500921",
     "exception": false,
     "start_time": "2023-06-20T11:01:03.486493",
     "status": "completed"
    },
    "tags": []
   },
   "source": [
    "# If the assumption of normal distribution is satisfied (if H0 cannot be rejected)"
   ]
  },
  {
   "cell_type": "markdown",
   "id": "f57f6634",
   "metadata": {
    "papermill": {
     "duration": 0.015168,
     "end_time": "2023-06-20T11:01:03.534038",
     "exception": false,
     "start_time": "2023-06-20T11:01:03.518870",
     "status": "completed"
    },
    "tags": []
   },
   "source": [
    "# Homogeneity of Variance"
   ]
  },
  {
   "cell_type": "code",
   "execution_count": 15,
   "id": "e427fba4",
   "metadata": {
    "execution": {
     "iopub.execute_input": "2023-06-20T11:01:03.572234Z",
     "iopub.status.busy": "2023-06-20T11:01:03.571527Z",
     "iopub.status.idle": "2023-06-20T11:01:03.577446Z",
     "shell.execute_reply": "2023-06-20T11:01:03.576069Z"
    },
    "papermill": {
     "duration": 0.031717,
     "end_time": "2023-06-20T11:01:03.580945",
     "exception": false,
     "start_time": "2023-06-20T11:01:03.549228",
     "status": "completed"
    },
    "tags": []
   },
   "outputs": [],
   "source": [
    "# H0: Variances are Homogeneous\n",
    "# H1: Variances are Not Homogeneous"
   ]
  },
  {
   "cell_type": "markdown",
   "id": "53f09f40",
   "metadata": {
    "papermill": {
     "duration": 0.018726,
     "end_time": "2023-06-20T11:01:03.618584",
     "exception": false,
     "start_time": "2023-06-20T11:01:03.599858",
     "status": "completed"
    },
    "tags": []
   },
   "source": [
    "- Levene test is applied to examine the assumption of homogeneity of variance."
   ]
  },
  {
   "cell_type": "code",
   "execution_count": 16,
   "id": "b6261528",
   "metadata": {
    "execution": {
     "iopub.execute_input": "2023-06-20T11:01:03.647763Z",
     "iopub.status.busy": "2023-06-20T11:01:03.647378Z",
     "iopub.status.idle": "2023-06-20T11:01:03.657031Z",
     "shell.execute_reply": "2023-06-20T11:01:03.655838Z"
    },
    "papermill": {
     "duration": 0.027251,
     "end_time": "2023-06-20T11:01:03.659638",
     "exception": false,
     "start_time": "2023-06-20T11:01:03.632387",
     "status": "completed"
    },
    "tags": []
   },
   "outputs": [],
   "source": [
    "test_stat, pvalue = levene(df.loc[df[\"smoker\"] == \"Yes\", \"total_bill\"],\n",
    "                           df.loc[df[\"smoker\"] == \"No\", \"total_bill\"])"
   ]
  },
  {
   "cell_type": "code",
   "execution_count": 17,
   "id": "91a24ecd",
   "metadata": {
    "execution": {
     "iopub.execute_input": "2023-06-20T11:01:03.689252Z",
     "iopub.status.busy": "2023-06-20T11:01:03.688556Z",
     "iopub.status.idle": "2023-06-20T11:01:03.694706Z",
     "shell.execute_reply": "2023-06-20T11:01:03.693231Z"
    },
    "papermill": {
     "duration": 0.024558,
     "end_time": "2023-06-20T11:01:03.698182",
     "exception": false,
     "start_time": "2023-06-20T11:01:03.673624",
     "status": "completed"
    },
    "tags": []
   },
   "outputs": [
    {
     "name": "stdout",
     "output_type": "stream",
     "text": [
      "Test Stat = 4.0537, p-value = 0.0452\n"
     ]
    }
   ],
   "source": [
    "print('Test Stat = %.4f, p-value = %.4f' % (test_stat, pvalue))"
   ]
  },
  {
   "cell_type": "code",
   "execution_count": 18,
   "id": "9c31fd26",
   "metadata": {
    "execution": {
     "iopub.execute_input": "2023-06-20T11:01:03.729275Z",
     "iopub.status.busy": "2023-06-20T11:01:03.728860Z",
     "iopub.status.idle": "2023-06-20T11:01:03.733685Z",
     "shell.execute_reply": "2023-06-20T11:01:03.732489Z"
    },
    "papermill": {
     "duration": 0.02395,
     "end_time": "2023-06-20T11:01:03.736294",
     "exception": false,
     "start_time": "2023-06-20T11:01:03.712344",
     "status": "completed"
    },
    "tags": []
   },
   "outputs": [],
   "source": [
    "# H0 RED if p-value < 0.05.\n",
    "# H0 CANNOT BE REJECTED if p-value < 0.05."
   ]
  },
  {
   "cell_type": "markdown",
   "id": "e05815d0",
   "metadata": {
    "papermill": {
     "duration": 0.013316,
     "end_time": "2023-06-20T11:01:03.763435",
     "exception": false,
     "start_time": "2023-06-20T11:01:03.750119",
     "status": "completed"
    },
    "tags": []
   },
   "source": [
    "- Since the p-value is less than 0.05, H0 is rejected.\n",
    "- Variances are not homogeneous."
   ]
  },
  {
   "cell_type": "markdown",
   "id": "5be4a244",
   "metadata": {
    "papermill": {
     "duration": 0.013337,
     "end_time": "2023-06-20T11:01:03.790622",
     "exception": false,
     "start_time": "2023-06-20T11:01:03.777285",
     "status": "completed"
    },
    "tags": []
   },
   "source": [
    "# 3- Implementation of Article 3 and 4"
   ]
  },
  {
   "cell_type": "code",
   "execution_count": 19,
   "id": "763bde8b",
   "metadata": {
    "execution": {
     "iopub.execute_input": "2023-06-20T11:01:03.819988Z",
     "iopub.status.busy": "2023-06-20T11:01:03.819569Z",
     "iopub.status.idle": "2023-06-20T11:01:03.824868Z",
     "shell.execute_reply": "2023-06-20T11:01:03.823313Z"
    },
    "papermill": {
     "duration": 0.023452,
     "end_time": "2023-06-20T11:01:03.827941",
     "exception": false,
     "start_time": "2023-06-20T11:01:03.804489",
     "status": "completed"
    },
    "tags": []
   },
   "outputs": [],
   "source": [
    "# 1. Independent two-sample t-test (parametric test) if the assumptions are satisfied.\n",
    "# 2. Mann-Whitneyu test (non-parametric test) if assumptions are not satisfied."
   ]
  },
  {
   "cell_type": "markdown",
   "id": "2c511baf",
   "metadata": {
    "papermill": {
     "duration": 0.013546,
     "end_time": "2023-06-20T11:01:03.856255",
     "exception": false,
     "start_time": "2023-06-20T11:01:03.842709",
     "status": "completed"
    },
    "tags": []
   },
   "source": [
    "# Independent two sample t-test (parametric test) if assumptions are satisfied."
   ]
  },
  {
   "cell_type": "markdown",
   "id": "1fbe45f8",
   "metadata": {
    "papermill": {
     "duration": 0.013562,
     "end_time": "2023-06-20T11:01:03.885784",
     "exception": false,
     "start_time": "2023-06-20T11:01:03.872222",
     "status": "completed"
    },
    "tags": []
   },
   "source": [
    "- If the normality assumption is met, ttest can be used.\n",
    "\n",
    "- If the assumption of normality is met and the assumption of homogeneity of variance is met, ttest can be used.\n",
    "\n",
    "- If the assumption of normality is met and homogeneity of variance is not met, ttest can be used. In this case, equal_var=False if the assumption of variance homogeneity is not satisfied."
   ]
  },
  {
   "cell_type": "code",
   "execution_count": 20,
   "id": "02384265",
   "metadata": {
    "execution": {
     "iopub.execute_input": "2023-06-20T11:01:03.915354Z",
     "iopub.status.busy": "2023-06-20T11:01:03.914915Z",
     "iopub.status.idle": "2023-06-20T11:01:03.925253Z",
     "shell.execute_reply": "2023-06-20T11:01:03.923865Z"
    },
    "papermill": {
     "duration": 0.028345,
     "end_time": "2023-06-20T11:01:03.927881",
     "exception": false,
     "start_time": "2023-06-20T11:01:03.899536",
     "status": "completed"
    },
    "tags": []
   },
   "outputs": [],
   "source": [
    "test_stat, pvalue = ttest_ind(df.loc[df[\"smoker\"] == \"Yes\", \"total_bill\"],\n",
    "                              df.loc[df[\"smoker\"] == \"No\", \"total_bill\"],\n",
    "                              equal_var=True)"
   ]
  },
  {
   "cell_type": "code",
   "execution_count": 21,
   "id": "3b42eadd",
   "metadata": {
    "execution": {
     "iopub.execute_input": "2023-06-20T11:01:03.958512Z",
     "iopub.status.busy": "2023-06-20T11:01:03.958142Z",
     "iopub.status.idle": "2023-06-20T11:01:03.963718Z",
     "shell.execute_reply": "2023-06-20T11:01:03.962462Z"
    },
    "papermill": {
     "duration": 0.023823,
     "end_time": "2023-06-20T11:01:03.966767",
     "exception": false,
     "start_time": "2023-06-20T11:01:03.942944",
     "status": "completed"
    },
    "tags": []
   },
   "outputs": [
    {
     "name": "stdout",
     "output_type": "stream",
     "text": [
      "Test Stat = 1.3384, p-value = 0.1820\n"
     ]
    }
   ],
   "source": [
    "print('Test Stat = %.4f, p-value = %.4f' % (test_stat, pvalue))"
   ]
  },
  {
   "cell_type": "code",
   "execution_count": 22,
   "id": "c7b88c81",
   "metadata": {
    "execution": {
     "iopub.execute_input": "2023-06-20T11:01:03.996688Z",
     "iopub.status.busy": "2023-06-20T11:01:03.996310Z",
     "iopub.status.idle": "2023-06-20T11:01:04.001871Z",
     "shell.execute_reply": "2023-06-20T11:01:04.000379Z"
    },
    "papermill": {
     "duration": 0.025104,
     "end_time": "2023-06-20T11:01:04.005726",
     "exception": false,
     "start_time": "2023-06-20T11:01:03.980622",
     "status": "completed"
    },
    "tags": []
   },
   "outputs": [],
   "source": [
    "# H0 RED if p-value < 0.05.\n",
    "# H0 CANNOT BE REJECTED if p-value < 0.05."
   ]
  },
  {
   "cell_type": "markdown",
   "id": "9624bd0e",
   "metadata": {
    "papermill": {
     "duration": 0.014126,
     "end_time": "2023-06-20T11:01:04.034739",
     "exception": false,
     "start_time": "2023-06-20T11:01:04.020613",
     "status": "completed"
    },
    "tags": []
   },
   "source": [
    "- Since the p-value is greater than 0.05, H0 cannot be rejected.\n",
    "- There is no statistically significant difference between the mean calculations of smokers and non-smokers. "
   ]
  },
  {
   "cell_type": "markdown",
   "id": "f0801e40",
   "metadata": {
    "papermill": {
     "duration": 0.013641,
     "end_time": "2023-06-20T11:01:04.062964",
     "exception": false,
     "start_time": "2023-06-20T11:01:04.049323",
     "status": "completed"
    },
    "tags": []
   },
   "source": [
    "# Mann-Whitneyu test (non-parametric test) if assumptions are not satisfied."
   ]
  },
  {
   "cell_type": "markdown",
   "id": "98836a27",
   "metadata": {
    "papermill": {
     "duration": 0.014107,
     "end_time": "2023-06-20T11:01:04.091091",
     "exception": false,
     "start_time": "2023-06-20T11:01:04.076984",
     "status": "completed"
    },
    "tags": []
   },
   "source": [
    "- The mannwhitneyu test is a non-prametric mean comparison median comparison test."
   ]
  },
  {
   "cell_type": "code",
   "execution_count": 23,
   "id": "cb8ba0e5",
   "metadata": {
    "execution": {
     "iopub.execute_input": "2023-06-20T11:01:04.120720Z",
     "iopub.status.busy": "2023-06-20T11:01:04.120334Z",
     "iopub.status.idle": "2023-06-20T11:01:04.133013Z",
     "shell.execute_reply": "2023-06-20T11:01:04.131168Z"
    },
    "papermill": {
     "duration": 0.030697,
     "end_time": "2023-06-20T11:01:04.135767",
     "exception": false,
     "start_time": "2023-06-20T11:01:04.105070",
     "status": "completed"
    },
    "tags": []
   },
   "outputs": [],
   "source": [
    "test_stat, pvalue = mannwhitneyu(df.loc[df[\"smoker\"] == \"Yes\", \"total_bill\"],\n",
    "                                 df.loc[df[\"smoker\"] == \"No\", \"total_bill\"])"
   ]
  },
  {
   "cell_type": "code",
   "execution_count": 24,
   "id": "568fb632",
   "metadata": {
    "execution": {
     "iopub.execute_input": "2023-06-20T11:01:04.166614Z",
     "iopub.status.busy": "2023-06-20T11:01:04.166190Z",
     "iopub.status.idle": "2023-06-20T11:01:04.171885Z",
     "shell.execute_reply": "2023-06-20T11:01:04.170684Z"
    },
    "papermill": {
     "duration": 0.025162,
     "end_time": "2023-06-20T11:01:04.175434",
     "exception": false,
     "start_time": "2023-06-20T11:01:04.150272",
     "status": "completed"
    },
    "tags": []
   },
   "outputs": [
    {
     "name": "stdout",
     "output_type": "stream",
     "text": [
      "Test Stat = 7531.5000, p-value = 0.3413\n"
     ]
    }
   ],
   "source": [
    "print('Test Stat = %.4f, p-value = %.4f' % (test_stat, pvalue))"
   ]
  },
  {
   "cell_type": "code",
   "execution_count": 25,
   "id": "bcb803f1",
   "metadata": {
    "execution": {
     "iopub.execute_input": "2023-06-20T11:01:04.205311Z",
     "iopub.status.busy": "2023-06-20T11:01:04.204923Z",
     "iopub.status.idle": "2023-06-20T11:01:04.209794Z",
     "shell.execute_reply": "2023-06-20T11:01:04.208427Z"
    },
    "papermill": {
     "duration": 0.023018,
     "end_time": "2023-06-20T11:01:04.212444",
     "exception": false,
     "start_time": "2023-06-20T11:01:04.189426",
     "status": "completed"
    },
    "tags": []
   },
   "outputs": [],
   "source": [
    "# H0 RED if p-value < 0.05.\n",
    "# H0 CANNOT BE REJECTED if p-value < 0.05."
   ]
  },
  {
   "cell_type": "markdown",
   "id": "e2163faa",
   "metadata": {
    "papermill": {
     "duration": 0.013413,
     "end_time": "2023-06-20T11:01:04.240607",
     "exception": false,
     "start_time": "2023-06-20T11:01:04.227194",
     "status": "completed"
    },
    "tags": []
   },
   "source": [
    "- Since the p-value is greater than 0.05, H0 cannot be rejected.\n",
    "- There is no statistically significant difference between the mean calculations of smokers and non-smokers. "
   ]
  },
  {
   "cell_type": "markdown",
   "id": "ac29d4a8",
   "metadata": {
    "papermill": {
     "duration": 0.014482,
     "end_time": "2023-06-20T11:01:04.269554",
     "exception": false,
     "start_time": "2023-06-20T11:01:04.255072",
     "status": "completed"
    },
    "tags": []
   },
   "source": [
    "# We either REFUSE or CANNOT REFUSE hypothesis H0. "
   ]
  },
  {
   "cell_type": "markdown",
   "id": "3b67a50d",
   "metadata": {
    "papermill": {
     "duration": 0.015051,
     "end_time": "2023-06-20T11:01:04.298574",
     "exception": false,
     "start_time": "2023-06-20T11:01:04.283523",
     "status": "completed"
    },
    "tags": []
   },
   "source": [
    "# There is no comment that we ACCEPT hypothesis H1. This comment is WRONG."
   ]
  }
 ],
 "metadata": {
  "kernelspec": {
   "display_name": "Python 3",
   "language": "python",
   "name": "python3"
  },
  "language_info": {
   "codemirror_mode": {
    "name": "ipython",
    "version": 3
   },
   "file_extension": ".py",
   "mimetype": "text/x-python",
   "name": "python",
   "nbconvert_exporter": "python",
   "pygments_lexer": "ipython3",
   "version": "3.10.10"
  },
  "papermill": {
   "default_parameters": {},
   "duration": 20.483573,
   "end_time": "2023-06-20T11:01:05.337447",
   "environment_variables": {},
   "exception": null,
   "input_path": "__notebook__.ipynb",
   "output_path": "__notebook__.ipynb",
   "parameters": {},
   "start_time": "2023-06-20T11:00:44.853874",
   "version": "2.4.0"
  }
 },
 "nbformat": 4,
 "nbformat_minor": 5
}
